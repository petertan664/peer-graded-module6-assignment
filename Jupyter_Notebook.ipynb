{
 "cells": [
  {
   "cell_type": "markdown",
   "id": "9c5e64dc-2bc7-4640-9b71-877eda7b6100",
   "metadata": {},
   "source": [
    "# Data Science Tools and Ecosystem"
   ]
  },
  {
   "cell_type": "markdown",
   "id": "bca0d27a-24c6-4c43-b116-c73c8d9ab219",
   "metadata": {},
   "source": [
    "In this notebook, we will explore some of the most commonly used tools, languages, and libraries in data science, along with simple examples of code execution."
   ]
  },
  {
   "cell_type": "markdown",
   "id": "8b126e2f-912e-42e0-8d57-43862ac465fc",
   "metadata": {},
   "source": [
    "### Some of the popular languages that Data Scientists use are:\n",

    "- Python\n",
    "- R\n",
    "- SQL"
   ]
  },
  {

   "cell_type": "markdown",
   "id": "b5f467ed-efe7-45ac-a08b-b2d48c26ba81",
   "metadata": {},
   "source": [
    "### Some of the commonly used libraries used by Data Scientists include:\n",

    "- Pandas\n",
    "- NumPy\n",
    "- Scikit-learn"
   ]
  },
  {
   "cell_type": "markdown",
   "id": "5d64d10e",
   "metadata": {},
   "source": [
    "### Data Science Tools\n",

    "| Tool         | Type              |\n",
    "|--------------|-------------------|\n",
    "| Jupyter      | Notebook Interface|\n",
    "| RStudio      | IDE               |\n",
    "| Apache Spark | Big Data Tool     |"
   ]
  },
  {
   "cell_type": "markdown",
   "id": "8ab579c8",
   "metadata": {},
   "source": [
    "### Below are a few examples of evaluating arithmetic expressions in Python."
   ]
  },
  {
   "cell_type": "code",
   "execution_count": null,
   "id": "34c615c2",
   "metadata": {},
   "outputs": [],
   "source": [
    "# This a simple arithmetic expression to multiply then add integers\n",
    "(3*4)+5"
   ]
  },

  {
   "cell_type": "code",
   "execution_count": null,
   "id": "c4553355",
   "metadata": {},
   "outputs": [],
   "source": [
    "# This will convert 200 minutes to hours by dividing by 60\n",
    "200 / 60"
   ]
  },


  {
   "cell_type": "markdown",
   "id": "a6333d96",
   "metadata": {},
   "source": [
    "### Objectives:\n",
    "- List popular languages for Data Science\n",
    "- List commonly used libraries\n",
    "- Evaluate arithmetic expressions\n",
    "- Create and share a Jupyter Notebook"
   ]
  },
  {
   "cell_type": "markdown",
   "id": "45d54fb5",
   "metadata": {},
   "source": [
    "## Author\n",
    "Keenan Tan"
   ]
  }
 ],
 "metadata": {},
 "nbformat": 4,
 "nbformat_minor": 5

}
